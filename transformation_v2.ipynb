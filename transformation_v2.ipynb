{
 "cells": [
  {
   "cell_type": "markdown",
   "id": "5754efbf-754d-480b-a3b8-9707f04663d6",
   "metadata": {},
   "source": [
    "# DATA CLEANING AND TRANSFORMATION"
   ]
  },
  {
   "cell_type": "code",
   "execution_count": 1,
   "id": "f6b22523-4cba-4809-9115-986124062b50",
   "metadata": {},
   "outputs": [],
   "source": [
    "# libraries\n",
    "\n",
    "import requests\n",
    "from bs4 import BeautifulSoup\n",
    "import pandas as pd\n",
    "import time\n",
    "\n",
    "import re\n",
    "\n",
    "from tqdm import tqdm\n",
    "import time\n",
    "\n",
    "import sqlite3\n",
    "\n",
    "import os\n",
    "import random\n",
    "import string"
   ]
  },
  {
   "cell_type": "code",
   "execution_count": 2,
   "id": "8c6e0ef1-f361-4745-a0de-be49743ddd9b",
   "metadata": {},
   "outputs": [],
   "source": [
    "# PANDAS OPTIONS\n",
    "# Set maximum number of columns and rows to display\n",
    "pd.set_option('display.max_columns', None)\n",
    "pd.set_option('display.max_rows', None)\n",
    "\n",
    "# Set the maximum column width to a high value\n",
    "pd.set_option('display.max_colwidth', 1000)"
   ]
  },
  {
   "cell_type": "code",
   "execution_count": 3,
   "id": "2599282f-57fd-42c0-ae71-bacd1c63e388",
   "metadata": {},
   "outputs": [
    {
     "data": {
      "text/html": [
       "<div>\n",
       "<style scoped>\n",
       "    .dataframe tbody tr th:only-of-type {\n",
       "        vertical-align: middle;\n",
       "    }\n",
       "\n",
       "    .dataframe tbody tr th {\n",
       "        vertical-align: top;\n",
       "    }\n",
       "\n",
       "    .dataframe thead th {\n",
       "        text-align: right;\n",
       "    }\n",
       "</style>\n",
       "<table border=\"1\" class=\"dataframe\">\n",
       "  <thead>\n",
       "    <tr style=\"text-align: right;\">\n",
       "      <th></th>\n",
       "      <th>product_name</th>\n",
       "      <th>product_link</th>\n",
       "      <th>manufacturer</th>\n",
       "      <th>is_new</th>\n",
       "      <th>price</th>\n",
       "      <th>shipping_cost</th>\n",
       "      <th>product_description</th>\n",
       "    </tr>\n",
       "  </thead>\n",
       "  <tbody>\n",
       "    <tr>\n",
       "      <th>0</th>\n",
       "      <td>BOITE DE 325 CARTOUCHES 22LR FEDERAL GOLD PLATED HOLLOW POINT 36 GRAINS</td>\n",
       "      <td>https://www.naturabuy.fr/BOITE-DE-325-CARTOUCHES-22LR-FEDERAL-GOLD-PLATED-HOLLOW-POINT-36-GRAINS-item-10619103.html</td>\n",
       "      <td>Federal</td>\n",
       "      <td>Neuf</td>\n",
       "      <td>46,90 €</td>\n",
       "      <td>12,00 €</td>\n",
       "      <td>Partager\\n\\n\\n                    Vendre le même objet \\nSignaler cet objet\\n\\n \\nDescription produit\\n\\n\\nMunitions tir de loisir, 22LR, Plombs 4,5mm et 9mm Flobert &gt; Munitions - Balles 22LR\\n\\n\\nMarque : FederalEtat de l'objet : NeufType : Standard Longue - haute vitesseType d'ogive : Creuse \\n\\n\\n\\n\\n\\nboite de 325 cartouches de marque Federal 22lr 36 grains round nose hollow point cuivree\\nexcellente cartouche pour le tir dans les armes a verrou comme semi automatique\\n \\n marque : Fédéral\\nréférence : 725\\nType d’ogive round nose cuivree a pointe creuse\\nvitesse 384 mètres par secondes\\npoids ogive : 36 grains\\n \\nen stock envoi des reception du paiement\\n \\nvente uniquement aux personnes ayant une licence de tir ou permis de chasse avec validation</td>\n",
       "    </tr>\n",
       "    <tr>\n",
       "      <th>1</th>\n",
       "      <td>Boîte ancienne 22 LR Remington 22 Target</td>\n",
       "      <td>https://www.naturabuy.fr/Boite-ancienne-22-LR-Remington-22-Target-item-10653966.html</td>\n",
       "      <td>Remington</td>\n",
       "      <td>Occasion</td>\n",
       "      <td>11,00 €</td>\n",
       "      <td>4,40 €</td>\n",
       "      <td>Partager\\n\\n\\n                    Vendre le même objet \\nSignaler cet objet\\n\\n \\nDescription produit\\n\\n\\nMunitions tir de loisir, 22LR, Plombs 4,5mm et 9mm Flobert &gt; Munitions - Balles 22LR\\n\\n\\nMarque : RemingtonEtat de l'objet : D'occasionType : StandardType d'ogive : Plomb \\n\\n\\n\\n\\n\\nBoîte en parfait état.\\nEnvoie par mondial relais 4€40</td>\n",
       "    </tr>\n",
       "  </tbody>\n",
       "</table>\n",
       "</div>"
      ],
      "text/plain": [
       "                                                              product_name  \\\n",
       "0  BOITE DE 325 CARTOUCHES 22LR FEDERAL GOLD PLATED HOLLOW POINT 36 GRAINS   \n",
       "1                                 Boîte ancienne 22 LR Remington 22 Target   \n",
       "\n",
       "                                                                                                          product_link  \\\n",
       "0  https://www.naturabuy.fr/BOITE-DE-325-CARTOUCHES-22LR-FEDERAL-GOLD-PLATED-HOLLOW-POINT-36-GRAINS-item-10619103.html   \n",
       "1                                 https://www.naturabuy.fr/Boite-ancienne-22-LR-Remington-22-Target-item-10653966.html   \n",
       "\n",
       "  manufacturer    is_new    price shipping_cost  \\\n",
       "0      Federal      Neuf  46,90 €       12,00 €   \n",
       "1    Remington  Occasion  11,00 €        4,40 €   \n",
       "\n",
       "                                                                                                                                                                                                                                                                                                                                                                                                                                                                                                                                                                                                                                                                                                                                                                           product_description  \n",
       "0  Partager\\n\\n\\n                    Vendre le même objet \\nSignaler cet objet\\n\\n \\nDescription produit\\n\\n\\nMunitions tir de loisir, 22LR, Plombs 4,5mm et 9mm Flobert > Munitions - Balles 22LR\\n\\n\\nMarque : FederalEtat de l'objet : NeufType : Standard Longue - haute vitesseType d'ogive : Creuse \\n\\n\\n\\n\\n\\nboite de 325 cartouches de marque Federal 22lr 36 grains round nose hollow point cuivree\\nexcellente cartouche pour le tir dans les armes a verrou comme semi automatique\\n \\n marque : Fédéral\\nréférence : 725\\nType d’ogive round nose cuivree a pointe creuse\\nvitesse 384 mètres par secondes\\npoids ogive : 36 grains\\n \\nen stock envoi des reception du paiement\\n \\nvente uniquement aux personnes ayant une licence de tir ou permis de chasse avec validation  \n",
       "1                                                                                                                                                                                                                                                                                                                                                                                                                                    Partager\\n\\n\\n                    Vendre le même objet \\nSignaler cet objet\\n\\n \\nDescription produit\\n\\n\\nMunitions tir de loisir, 22LR, Plombs 4,5mm et 9mm Flobert > Munitions - Balles 22LR\\n\\n\\nMarque : RemingtonEtat de l'objet : D'occasionType : StandardType d'ogive : Plomb \\n\\n\\n\\n\\n\\nBoîte en parfait état.\\nEnvoie par mondial relais 4€40  "
      ]
     },
     "execution_count": 3,
     "metadata": {},
     "output_type": "execute_result"
    }
   ],
   "source": [
    "# read back raw data from csv\n",
    "df = pd.read_csv('scraped_data.csv')\n",
    "\n",
    "df.head(2)"
   ]
  },
  {
   "cell_type": "code",
   "execution_count": 4,
   "id": "259f5bac-afdf-4844-ab9c-7aaeb52cb6de",
   "metadata": {},
   "outputs": [],
   "source": [
    "# change dtypes of columns for easier manipulation\n",
    "df['product_name'] = df['product_name'].astype(str)\n",
    "df['manufacturer'] = df['manufacturer'].astype(str)\n",
    "df['is_new'] = df['is_new'].astype(str)\n",
    "df['price'] = df['price'].astype(str)\n",
    "df['shipping_cost'] = df['shipping_cost'].astype(str)\n",
    "\n",
    "# change formatting of prices, remove currency, set as float\n",
    "df['price'] = df['price'].str.replace(',', '.').str.extract('(\\d+\\.\\d+)', expand=False).astype(float)\n",
    "df['shipping_cost'] = df['shipping_cost'].str.replace(',', '.').str.extract('(\\d+\\.\\d+)', expand=False).fillna(0).astype(float)\n",
    "\n",
    "# change string values for new-used to binary\n",
    "df[\"is_new\"] = df[\"is_new\"].map({\"Neuf\": 1, \"Occasion\": 0})\n",
    "# change missing values to 0 (used item)\n",
    "df[\"is_new\"] = df[\"is_new\"].fillna(0).astype(int)\n",
    "\n",
    "# add new column for Total price\n",
    "df['total_price'] = df['price'] + df['shipping_cost']"
   ]
  },
  {
   "cell_type": "code",
   "execution_count": 5,
   "id": "8d7dc113-4788-4383-80d1-4698b75d0537",
   "metadata": {},
   "outputs": [],
   "source": [
    "def clean_text(text):\n",
    "    # replace newline characters and extra spaces\n",
    "    text = re.sub(r'\\n+', ' ', text)\n",
    "    text = re.sub(r'\\s+', ' ', text)\n",
    "    # remove leading and trailing spaces\n",
    "    text = text.strip()\n",
    "    return text"
   ]
  },
  {
   "cell_type": "code",
   "execution_count": 6,
   "id": "1975b7ff-646b-40ce-89cf-c24c6d10d785",
   "metadata": {},
   "outputs": [],
   "source": [
    "# apply clean_text() function to the 'product_description' column\n",
    "df['product_description'] = df['product_description'].apply(clean_text)\n",
    "\n",
    "# remove text from description that doesnt belong to the item itself, eg share buttons and shop category\n",
    "df['product_description'] = df['product_description'].apply(lambda x: x.split(\"Flobert > Munitions - Balles 22LR\")[1].strip())"
   ]
  },
  {
   "cell_type": "code",
   "execution_count": 7,
   "id": "bb943307-2c18-4dcd-ac73-fc795d5ea988",
   "metadata": {},
   "outputs": [],
   "source": [
    "df.to_csv('scraped_data_clean.csv', index=False)"
   ]
  },
  {
   "cell_type": "code",
   "execution_count": 8,
   "id": "78a5f32a-93e4-4728-9e15-1105d7efbb22",
   "metadata": {},
   "outputs": [],
   "source": [
    "# bullet qtty extraction"
   ]
  },
  {
   "cell_type": "code",
   "execution_count": 9,
   "id": "c92130e9-2072-48e9-9c64-974a8cf0631e",
   "metadata": {},
   "outputs": [],
   "source": [
    "# boxes of ammo qtty extraction"
   ]
  },
  {
   "cell_type": "code",
   "execution_count": 10,
   "id": "32d9bee9-e41b-4671-84f2-f6b95c1d7cb8",
   "metadata": {},
   "outputs": [
    {
     "data": {
      "text/html": [
       "<div>\n",
       "<style scoped>\n",
       "    .dataframe tbody tr th:only-of-type {\n",
       "        vertical-align: middle;\n",
       "    }\n",
       "\n",
       "    .dataframe tbody tr th {\n",
       "        vertical-align: top;\n",
       "    }\n",
       "\n",
       "    .dataframe thead th {\n",
       "        text-align: right;\n",
       "    }\n",
       "</style>\n",
       "<table border=\"1\" class=\"dataframe\">\n",
       "  <thead>\n",
       "    <tr style=\"text-align: right;\">\n",
       "      <th></th>\n",
       "      <th>product_name</th>\n",
       "      <th>product_link</th>\n",
       "      <th>manufacturer</th>\n",
       "      <th>is_new</th>\n",
       "      <th>price</th>\n",
       "      <th>shipping_cost</th>\n",
       "      <th>product_description</th>\n",
       "      <th>total_price</th>\n",
       "    </tr>\n",
       "  </thead>\n",
       "  <tbody>\n",
       "    <tr>\n",
       "      <th>0</th>\n",
       "      <td>BOITE DE 325 CARTOUCHES 22LR FEDERAL GOLD PLATED HOLLOW POINT 36 GRAINS</td>\n",
       "      <td>https://www.naturabuy.fr/BOITE-DE-325-CARTOUCHES-22LR-FEDERAL-GOLD-PLATED-HOLLOW-POINT-36-GRAINS-item-10619103.html</td>\n",
       "      <td>Federal</td>\n",
       "      <td>1</td>\n",
       "      <td>46.9</td>\n",
       "      <td>12.0</td>\n",
       "      <td>Marque : FederalEtat de l'objet : NeufType : Standard Longue - haute vitesseType d'ogive : Creuse boite de 325 cartouches de marque Federal 22lr 36 grains round nose hollow point cuivree excellente cartouche pour le tir dans les armes a verrou comme semi automatique marque : Fédéral référence : 725 Type d’ogive round nose cuivree a pointe creuse vitesse 384 mètres par secondes poids ogive : 36 grains en stock envoi des reception du paiement vente uniquement aux personnes ayant une licence de tir ou permis de chasse avec validation</td>\n",
       "      <td>58.9</td>\n",
       "    </tr>\n",
       "    <tr>\n",
       "      <th>1</th>\n",
       "      <td>Boîte ancienne 22 LR Remington 22 Target</td>\n",
       "      <td>https://www.naturabuy.fr/Boite-ancienne-22-LR-Remington-22-Target-item-10653966.html</td>\n",
       "      <td>Remington</td>\n",
       "      <td>0</td>\n",
       "      <td>11.0</td>\n",
       "      <td>4.4</td>\n",
       "      <td>Marque : RemingtonEtat de l'objet : D'occasionType : StandardType d'ogive : Plomb Boîte en parfait état. Envoie par mondial relais 4€40</td>\n",
       "      <td>15.4</td>\n",
       "    </tr>\n",
       "    <tr>\n",
       "      <th>2</th>\n",
       "      <td>boite de 325 cartouches de 22Lr de marque Federal , Automatch , pour semi auto</td>\n",
       "      <td>https://www.naturabuy.fr/boite-325-cartouches-22Lr-marque-Federal-Automatch-semi-auto-item-10619099.html</td>\n",
       "      <td>Federal</td>\n",
       "      <td>1</td>\n",
       "      <td>44.9</td>\n",
       "      <td>12.0</td>\n",
       "      <td>Marque : FederalEtat de l'objet : NeufType : Standard Longue - haute vitesseType d'ogive : Plomb 1 boite de 325 cartouches de marque Federal 22lr ,40 grains round nose special semi auto Type d'ogive round nose en plomb vitesse 360 metres par secondes poids ogive : 40 grains en stock envoi des reception du paiement vente uniquement aux personnes ayant une licence de tir ou permis de chasse avec validation</td>\n",
       "      <td>56.9</td>\n",
       "    </tr>\n",
       "    <tr>\n",
       "      <th>3</th>\n",
       "      <td>Boîte ancienne 22 LR Fiocchi expansive</td>\n",
       "      <td>https://www.naturabuy.fr/Boite-ancienne-22-LR-Fiocchi-expansive-item-10653962.html</td>\n",
       "      <td>Fiocchi</td>\n",
       "      <td>0</td>\n",
       "      <td>12.0</td>\n",
       "      <td>4.4</td>\n",
       "      <td>Marque : FiocchiEtat de l'objet : D'occasionType : StandardType d'ogive : Plomb Boîte ancienne, Fiocchi expansive, il manque 6 cartouches. Envoie par mondial relais 4,40 €</td>\n",
       "      <td>16.4</td>\n",
       "    </tr>\n",
       "    <tr>\n",
       "      <th>4</th>\n",
       "      <td>Boîte ancienne 22 LR NCS 20 Match</td>\n",
       "      <td>https://www.naturabuy.fr/Boite-ancienne-22-LR-NCS-20-Match-item-10653952.html</td>\n",
       "      <td>NCS</td>\n",
       "      <td>0</td>\n",
       "      <td>20.0</td>\n",
       "      <td>4.4</td>\n",
       "      <td>Marque : NCSEtat de l'objet : D'occasionType : MatchType d'ogive : Plomb Boîte ancienne frabriquée par la Nouvelle Cartoucherie de Survilliers (Cartoucherie Française). Boîte en parfait état. Envoie par mondial relay 4,40 €</td>\n",
       "      <td>24.4</td>\n",
       "    </tr>\n",
       "  </tbody>\n",
       "</table>\n",
       "</div>"
      ],
      "text/plain": [
       "                                                                     product_name  \\\n",
       "0         BOITE DE 325 CARTOUCHES 22LR FEDERAL GOLD PLATED HOLLOW POINT 36 GRAINS   \n",
       "1                                        Boîte ancienne 22 LR Remington 22 Target   \n",
       "2  boite de 325 cartouches de 22Lr de marque Federal , Automatch , pour semi auto   \n",
       "3                                          Boîte ancienne 22 LR Fiocchi expansive   \n",
       "4                                               Boîte ancienne 22 LR NCS 20 Match   \n",
       "\n",
       "                                                                                                          product_link  \\\n",
       "0  https://www.naturabuy.fr/BOITE-DE-325-CARTOUCHES-22LR-FEDERAL-GOLD-PLATED-HOLLOW-POINT-36-GRAINS-item-10619103.html   \n",
       "1                                 https://www.naturabuy.fr/Boite-ancienne-22-LR-Remington-22-Target-item-10653966.html   \n",
       "2             https://www.naturabuy.fr/boite-325-cartouches-22Lr-marque-Federal-Automatch-semi-auto-item-10619099.html   \n",
       "3                                   https://www.naturabuy.fr/Boite-ancienne-22-LR-Fiocchi-expansive-item-10653962.html   \n",
       "4                                        https://www.naturabuy.fr/Boite-ancienne-22-LR-NCS-20-Match-item-10653952.html   \n",
       "\n",
       "  manufacturer  is_new  price  shipping_cost  \\\n",
       "0      Federal       1   46.9           12.0   \n",
       "1    Remington       0   11.0            4.4   \n",
       "2      Federal       1   44.9           12.0   \n",
       "3      Fiocchi       0   12.0            4.4   \n",
       "4          NCS       0   20.0            4.4   \n",
       "\n",
       "                                                                                                                                                                                                                                                                                                                                                                                                                                                                                                                                        product_description  \\\n",
       "0  Marque : FederalEtat de l'objet : NeufType : Standard Longue - haute vitesseType d'ogive : Creuse boite de 325 cartouches de marque Federal 22lr 36 grains round nose hollow point cuivree excellente cartouche pour le tir dans les armes a verrou comme semi automatique marque : Fédéral référence : 725 Type d’ogive round nose cuivree a pointe creuse vitesse 384 mètres par secondes poids ogive : 36 grains en stock envoi des reception du paiement vente uniquement aux personnes ayant une licence de tir ou permis de chasse avec validation   \n",
       "1                                                                                                                                                                                                                                                                                                                                                                                                                   Marque : RemingtonEtat de l'objet : D'occasionType : StandardType d'ogive : Plomb Boîte en parfait état. Envoie par mondial relais 4€40   \n",
       "2                                                                                                                                   Marque : FederalEtat de l'objet : NeufType : Standard Longue - haute vitesseType d'ogive : Plomb 1 boite de 325 cartouches de marque Federal 22lr ,40 grains round nose special semi auto Type d'ogive round nose en plomb vitesse 360 metres par secondes poids ogive : 40 grains en stock envoi des reception du paiement vente uniquement aux personnes ayant une licence de tir ou permis de chasse avec validation   \n",
       "3                                                                                                                                                                                                                                                                                                                                                                               Marque : FiocchiEtat de l'objet : D'occasionType : StandardType d'ogive : Plomb Boîte ancienne, Fiocchi expansive, il manque 6 cartouches. Envoie par mondial relais 4,40 €   \n",
       "4                                                                                                                                                                                                                                                                                                                           Marque : NCSEtat de l'objet : D'occasionType : MatchType d'ogive : Plomb Boîte ancienne frabriquée par la Nouvelle Cartoucherie de Survilliers (Cartoucherie Française). Boîte en parfait état. Envoie par mondial relay 4,40 €   \n",
       "\n",
       "   total_price  \n",
       "0         58.9  \n",
       "1         15.4  \n",
       "2         56.9  \n",
       "3         16.4  \n",
       "4         24.4  "
      ]
     },
     "execution_count": 10,
     "metadata": {},
     "output_type": "execute_result"
    }
   ],
   "source": [
    "df.head()"
   ]
  },
  {
   "cell_type": "code",
   "execution_count": 11,
   "id": "d0354eb8-eabc-4bd1-b93a-0db831af0a00",
   "metadata": {},
   "outputs": [
    {
     "data": {
      "text/plain": [
       "product_name           0\n",
       "product_link           0\n",
       "manufacturer           0\n",
       "is_new                 0\n",
       "price                  0\n",
       "shipping_cost          0\n",
       "product_description    0\n",
       "total_price            0\n",
       "dtype: int64"
      ]
     },
     "execution_count": 11,
     "metadata": {},
     "output_type": "execute_result"
    }
   ],
   "source": [
    "# check for amount of missing values\n",
    "df.isna().sum()"
   ]
  },
  {
   "cell_type": "code",
   "execution_count": null,
   "id": "4971e861-7711-4244-a5e1-7fc041cede80",
   "metadata": {},
   "outputs": [],
   "source": []
  }
 ],
 "metadata": {
  "kernelspec": {
   "display_name": "Python 3 (ipykernel)",
   "language": "python",
   "name": "python3"
  },
  "language_info": {
   "codemirror_mode": {
    "name": "ipython",
    "version": 3
   },
   "file_extension": ".py",
   "mimetype": "text/x-python",
   "name": "python",
   "nbconvert_exporter": "python",
   "pygments_lexer": "ipython3",
   "version": "3.11.0"
  }
 },
 "nbformat": 4,
 "nbformat_minor": 5
}
