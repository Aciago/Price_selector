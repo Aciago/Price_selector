{
 "cells": [
  {
   "cell_type": "markdown",
   "id": "5754efbf-754d-480b-a3b8-9707f04663d6",
   "metadata": {},
   "source": [
    "# DATA CLEANING AND TRANSFORMATION"
   ]
  },
  {
   "cell_type": "code",
   "execution_count": 1,
   "id": "f6b22523-4cba-4809-9115-986124062b50",
   "metadata": {},
   "outputs": [],
   "source": [
    "# libraries\n",
    "\n",
    "import requests\n",
    "from bs4 import BeautifulSoup\n",
    "import pandas as pd\n",
    "import time\n",
    "\n",
    "import re\n",
    "\n",
    "from tqdm import tqdm\n",
    "import time\n",
    "\n",
    "import sqlite3\n",
    "\n",
    "import os\n",
    "import random\n",
    "import string"
   ]
  },
  {
   "cell_type": "code",
   "execution_count": 5,
   "id": "8c6e0ef1-f361-4745-a0de-be49743ddd9b",
   "metadata": {},
   "outputs": [],
   "source": [
    "# PANDAS OPTIONS\n",
    "# Set maximum number of columns and rows to display\n",
    "pd.set_option('display.max_columns', None)\n",
    "pd.set_option('display.max_rows', None)\n",
    "\n",
    "# Set the maximum column width to a high value\n",
    "pd.set_option('display.max_colwidth', 1000)"
   ]
  },
  {
   "cell_type": "code",
   "execution_count": 25,
   "id": "2599282f-57fd-42c0-ae71-bacd1c63e388",
   "metadata": {},
   "outputs": [
    {
     "data": {
      "text/html": [
       "<div>\n",
       "<style scoped>\n",
       "    .dataframe tbody tr th:only-of-type {\n",
       "        vertical-align: middle;\n",
       "    }\n",
       "\n",
       "    .dataframe tbody tr th {\n",
       "        vertical-align: top;\n",
       "    }\n",
       "\n",
       "    .dataframe thead th {\n",
       "        text-align: right;\n",
       "    }\n",
       "</style>\n",
       "<table border=\"1\" class=\"dataframe\">\n",
       "  <thead>\n",
       "    <tr style=\"text-align: right;\">\n",
       "      <th></th>\n",
       "      <th>product_name</th>\n",
       "      <th>product_link</th>\n",
       "      <th>manufacturer</th>\n",
       "      <th>is_new</th>\n",
       "      <th>price</th>\n",
       "      <th>shipping_cost</th>\n",
       "      <th>product_description</th>\n",
       "    </tr>\n",
       "  </thead>\n",
       "  <tbody>\n",
       "    <tr>\n",
       "      <th>0</th>\n",
       "      <td>Lot de 2 boîtes de 22lr (2)</td>\n",
       "      <td>https://www.naturabuy.fr/Lot-2-boites-22lr-2--item-9324301.html</td>\n",
       "      <td>Armscor</td>\n",
       "      <td>Occasion</td>\n",
       "      <td>20,00 €</td>\n",
       "      <td>6,50 €</td>\n",
       "      <td>Partager\\n\\n\\n                    Vendre le même objet \\nSignaler cet objet\\n\\n \\nDescription produit\\n\\n\\nMunitions tir de loisir, 22LR, Plombs 4,5mm et 9mm Flobert &gt; Munitions - Balles 22LR\\n\\n\\nMarque : ArmscorEtat de l'objet : D'occasion \\n\\n\\n\\n\\n\\nLots de 2 boîtes pleines 22lr armscor</td>\n",
       "    </tr>\n",
       "    <tr>\n",
       "      <th>1</th>\n",
       "      <td>CCI 22LR 45GR LRN SEMI-AUTO \"QUIET 22\" boite 500 pcs</td>\n",
       "      <td>https://www.naturabuy.fr/CCI-22LR-45GR-LRN-SEMI-AUTO-QUIET-22--item-9496304.html</td>\n",
       "      <td>CCI</td>\n",
       "      <td>Neuf</td>\n",
       "      <td>99,00 €</td>\n",
       "      <td>17,55 €</td>\n",
       "      <td>Partager\\n\\n\\n                    Vendre le même objet \\nSignaler cet objet\\n\\n \\nDescription produit\\n\\n\\nMunitions tir de loisir, 22LR, Plombs 4,5mm et 9mm Flobert &gt; Munitions - Balles 22LR\\n\\n\\nMarque : CCIEtat de l'objet : NeufType : SubsoniqueType d'ogive : Non communiquée \\n\\n\\n\\n\\n\\nCCI 22LR 45GR LRN SEMI-AUTO \"QUIET 22\" \\nboite 500 pcs\\n \\nCaractéristiques\\ncalibre 22 LR\\nboite 50\\ntype article QUIET-22 SEMI-AUTO\\nogive Round Nose Plomb\\nv0ms 255\\ngram 2,9\\ngrains 45</td>\n",
       "    </tr>\n",
       "  </tbody>\n",
       "</table>\n",
       "</div>"
      ],
      "text/plain": [
       "                                           product_name  \\\n",
       "0                           Lot de 2 boîtes de 22lr (2)   \n",
       "1  CCI 22LR 45GR LRN SEMI-AUTO \"QUIET 22\" boite 500 pcs   \n",
       "\n",
       "                                                                       product_link  \\\n",
       "0                   https://www.naturabuy.fr/Lot-2-boites-22lr-2--item-9324301.html   \n",
       "1  https://www.naturabuy.fr/CCI-22LR-45GR-LRN-SEMI-AUTO-QUIET-22--item-9496304.html   \n",
       "\n",
       "  manufacturer    is_new    price shipping_cost  \\\n",
       "0      Armscor  Occasion  20,00 €        6,50 €   \n",
       "1          CCI      Neuf  99,00 €       17,55 €   \n",
       "\n",
       "                                                                                                                                                                                                                                                                                                                                                                                                                                                                               product_description  \n",
       "0                                                                                                                                                                                              Partager\\n\\n\\n                    Vendre le même objet \\nSignaler cet objet\\n\\n \\nDescription produit\\n\\n\\nMunitions tir de loisir, 22LR, Plombs 4,5mm et 9mm Flobert > Munitions - Balles 22LR\\n\\n\\nMarque : ArmscorEtat de l'objet : D'occasion \\n\\n\\n\\n\\n\\nLots de 2 boîtes pleines 22lr armscor  \n",
       "1  Partager\\n\\n\\n                    Vendre le même objet \\nSignaler cet objet\\n\\n \\nDescription produit\\n\\n\\nMunitions tir de loisir, 22LR, Plombs 4,5mm et 9mm Flobert > Munitions - Balles 22LR\\n\\n\\nMarque : CCIEtat de l'objet : NeufType : SubsoniqueType d'ogive : Non communiquée \\n\\n\\n\\n\\n\\nCCI 22LR 45GR LRN SEMI-AUTO \"QUIET 22\" \\nboite 500 pcs\\n \\nCaractéristiques\\ncalibre 22 LR\\nboite 50\\ntype article QUIET-22 SEMI-AUTO\\nogive Round Nose Plomb\\nv0ms 255\\ngram 2,9\\ngrains 45  "
      ]
     },
     "execution_count": 25,
     "metadata": {},
     "output_type": "execute_result"
    }
   ],
   "source": [
    "# read back raw data from csv\n",
    "df = pd.read_csv('scraped_data.csv')\n",
    "\n",
    "df.head(2)"
   ]
  },
  {
   "cell_type": "code",
   "execution_count": 26,
   "id": "259f5bac-afdf-4844-ab9c-7aaeb52cb6de",
   "metadata": {},
   "outputs": [],
   "source": [
    "# change dtypes of columns for easier manipulation\n",
    "df['product_name'] = df['product_name'].astype(str)\n",
    "df['manufacturer'] = df['manufacturer'].astype(str)\n",
    "df['is_new'] = df['is_new'].astype(str)\n",
    "df['price'] = df['price'].astype(str)\n",
    "df['shipping_cost'] = df['shipping_cost'].astype(str)\n",
    "\n",
    "# change formatting of prices, remove currency, set as float\n",
    "df['price'] = df['price'].str.replace(',', '.').str.extract('(\\d+\\.\\d+)', expand=False).astype(float)\n",
    "df['shipping_cost'] = df['shipping_cost'].str.replace(',', '.').str.extract('(\\d+\\.\\d+)', expand=False).fillna(0).astype(float)\n",
    "\n",
    "# change string values for new-used to binary\n",
    "df[\"is_new\"] = df[\"is_new\"].map({\"Neuf\": 1, \"Occasion\": 0})\n",
    "# change missing values to 0 (used item)\n",
    "df[\"is_new\"] = df[\"is_new\"].fillna(0).astype(int)\n",
    "\n",
    "# add new column for Total price\n",
    "df['total_price'] = df['price'] + df['shipping_cost']\n",
    "\n",
    "def clean_text(text):\n",
    "    # replace newline characters and extra spaces\n",
    "    text = re.sub(r'\\n+', ' ', text)\n",
    "    text = re.sub(r'\\s+', ' ', text)\n",
    "    # remove leading and trailing spaces\n",
    "    text = text.strip()\n",
    "    return text\n",
    "\n",
    "# apply clean_text() function to the 'product_description' column\n",
    "df['product_description'] = df['product_description'].apply(clean_text)\n",
    "\n",
    "# remove text from description that doesnt belong to the item itself, eg share buttons and shop category\n",
    "df['product_description'] = df['product_description'].apply(lambda x: x.split(\"Flobert > Munitions - Balles 22LR\")[1].strip())"
   ]
  },
  {
   "cell_type": "code",
   "execution_count": 33,
   "id": "78a5f32a-93e4-4728-9e15-1105d7efbb22",
   "metadata": {},
   "outputs": [],
   "source": [
    "# bullet qtty extraction"
   ]
  },
  {
   "cell_type": "code",
   "execution_count": null,
   "id": "c92130e9-2072-48e9-9c64-974a8cf0631e",
   "metadata": {},
   "outputs": [],
   "source": [
    "# boxes of ammo qtty extraction"
   ]
  }
 ],
 "metadata": {
  "kernelspec": {
   "display_name": "Python 3 (ipykernel)",
   "language": "python",
   "name": "python3"
  },
  "language_info": {
   "codemirror_mode": {
    "name": "ipython",
    "version": 3
   },
   "file_extension": ".py",
   "mimetype": "text/x-python",
   "name": "python",
   "nbconvert_exporter": "python",
   "pygments_lexer": "ipython3",
   "version": "3.11.0"
  }
 },
 "nbformat": 4,
 "nbformat_minor": 5
}
